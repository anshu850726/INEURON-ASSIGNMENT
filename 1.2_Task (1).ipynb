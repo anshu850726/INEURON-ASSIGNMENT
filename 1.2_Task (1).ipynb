{
 "cells": [
  {
   "cell_type": "code",
   "execution_count": null,
   "metadata": {},
   "outputs": [],
   "source": [
    "1. Write a Python program to convert kilometers to miles?\n",
    "2. Write a Python program to convert Celsius to Fahrenheit?\n",
    "3. Write a Python program to display calendar?\n",
    "4. Write a Python program to solve quadratic equation?\n",
    "5. Write a Python program to swap two variables without temp variable?"
   ]
  },
  {
   "cell_type": "code",
   "execution_count": 1,
   "metadata": {},
   "outputs": [
    {
     "name": "stdout",
     "output_type": "stream",
     "text": [
      "Enter the measure in kilometer : 3\n",
      "convertd into km to miles : 1.863\n"
     ]
    }
   ],
   "source": [
    "# 1. Write a Python program to convert kilometers to miles?\n",
    "x=int(input(\"Enter the measure in kilometer : \"))\n",
    "#output in miles \n",
    "Measure=x*0.621\n",
    "\n",
    "print(\"convertd into km to miles :\",Measure)"
   ]
  },
  {
   "cell_type": "code",
   "execution_count": 6,
   "metadata": {},
   "outputs": [
    {
     "name": "stdout",
     "output_type": "stream",
     "text": [
      "Enter the temperature  in Celsius  : 4\n",
      "convertd from celsius fahrenheit : 39.2\n"
     ]
    }
   ],
   "source": [
    "# 2. Write a Python program to convert Celsius to Fahrenheit?\n",
    "c=int(input(\"Enter the temperature  in Celsius  : \"))\n",
    "#output in Fahrenheit \n",
    "Measure=(c*9/5)+32\n",
    "\n",
    "print(\"convertd from celsius fahrenheit :\",Measure)"
   ]
  },
  {
   "cell_type": "code",
   "execution_count": 12,
   "metadata": {},
   "outputs": [
    {
     "name": "stdout",
     "output_type": "stream",
     "text": [
      "     April 2021\n",
      "Mo Tu We Th Fr Sa Su\n",
      "          1  2  3  4\n",
      " 5  6  7  8  9 10 11\n",
      "12 13 14 15 16 17 18\n",
      "19 20 21 22 23 24 25\n",
      "26 27 28 29 30\n",
      "\n"
     ]
    }
   ],
   "source": [
    "# Write a Python program to display calendar?\n",
    "import calendar\n",
    "yy=2021\n",
    "mm=4\n",
    "\n",
    "print(calendar.month(yy,mm))"
   ]
  },
  {
   "cell_type": "code",
   "execution_count": 3,
   "metadata": {},
   "outputs": [
    {
     "name": "stdout",
     "output_type": "stream",
     "text": [
      "Enter the value of a: 4\n",
      "Enter the value of b: 7\n",
      "Enter the value of c: 9\n",
      "The roots are (-0.875-1.2183492931011204j) and (-0.875+1.2183492931011204j)\n"
     ]
    }
   ],
   "source": [
    "#  Write a Python program to solve quadratic equation?\n",
    "import cmath  #importing complex math-module\n",
    "\n",
    "# take inputs\n",
    "a = float(input('Enter the value of a: '))\n",
    "b = float(input('Enter the value of b: '))\n",
    "c = float(input('Enter the value of c: '))\n",
    "\n",
    "# calculate discriminant\n",
    "dis = (b**2) - (4*a*c)\n",
    "\n",
    "# find roots of quadratic equation\n",
    "root1 = (-b-cmath.sqrt(dis))/(2*a)\n",
    "root2 = (-b+cmath.sqrt(dis))/(2*a)\n",
    "\n",
    "# display result\n",
    "print('The roots are {0} and {1}'.format(root1,root2))"
   ]
  },
  {
   "cell_type": "code",
   "execution_count": 4,
   "metadata": {},
   "outputs": [
    {
     "name": "stdout",
     "output_type": "stream",
     "text": [
      "past value of a is 10 and c is 30\n",
      "New value of a is 30 and c is 10\n"
     ]
    }
   ],
   "source": [
    "# This program swaps two numbers withpout temp\n",
    "\n",
    "a = 10\n",
    "c = 30\n",
    "\n",
    "print('past value of a is {0} and c is {1}'.format(a, c))\n",
    "\n",
    "a = a + c\n",
    "c = a - c\n",
    "a = a - c\n",
    "\n",
    "# Display the result\n",
    "print('New value of a is {0} and c is {1}'.format(a, c))"
   ]
  }
 ],
 "metadata": {
  "kernelspec": {
   "display_name": "Python 3",
   "language": "python",
   "name": "python3"
  },
  "language_info": {
   "codemirror_mode": {
    "name": "ipython",
    "version": 3
   },
   "file_extension": ".py",
   "mimetype": "text/x-python",
   "name": "python",
   "nbconvert_exporter": "python",
   "pygments_lexer": "ipython3",
   "version": "3.7.6"
  }
 },
 "nbformat": 4,
 "nbformat_minor": 4
}
