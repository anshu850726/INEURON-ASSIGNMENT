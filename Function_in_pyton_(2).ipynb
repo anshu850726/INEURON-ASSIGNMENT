{
  "nbformat": 4,
  "nbformat_minor": 0,
  "metadata": {
    "kernelspec": {
      "display_name": "Python 3",
      "language": "python",
      "name": "python3"
    },
    "language_info": {
      "codemirror_mode": {
        "name": "ipython",
        "version": 3
      },
      "file_extension": ".py",
      "mimetype": "text/x-python",
      "name": "python",
      "nbconvert_exporter": "python",
      "pygments_lexer": "ipython3",
      "version": "3.8.3"
    },
    "colab": {
      "name": "Function in pyton  (1).ipynb",
      "provenance": [],
      "include_colab_link": true
    }
  },
  "cells": [
    {
      "cell_type": "markdown",
      "metadata": {
        "id": "view-in-github",
        "colab_type": "text"
      },
      "source": [
        "<a href=\"https://colab.research.google.com/github/anshu850726/INEURON-ASSIGNMENT/blob/main/Function_in_pyton_(2).ipynb\" target=\"_parent\"><img src=\"https://colab.research.google.com/assets/colab-badge.svg\" alt=\"Open In Colab\"/></a>"
      ]
    },
    {
      "cell_type": "code",
      "metadata": {
        "id": "K3qBe3tYZNLU",
        "outputId": "47c866de-ca7a-45b2-9fd6-14a4edd8b9ef"
      },
      "source": [
        " a = 10\n",
        "b = 20\n",
        "a+b"
      ],
      "execution_count": null,
      "outputs": [
        {
          "output_type": "execute_result",
          "data": {
            "text/plain": [
              "30"
            ]
          },
          "metadata": {
            "tags": []
          },
          "execution_count": 2
        }
      ]
    },
    {
      "cell_type": "code",
      "metadata": {
        "id": "cz8IRFngZNLi"
      },
      "source": [
        "def test(x,y):\n",
        "    \n",
        "    print(x+y)"
      ],
      "execution_count": null,
      "outputs": []
    },
    {
      "cell_type": "code",
      "metadata": {
        "id": "cqxzCHC7ZNLk",
        "outputId": "20546e01-e478-422b-9f22-37219e9832e2"
      },
      "source": [
        "type(test(23,45))"
      ],
      "execution_count": null,
      "outputs": [
        {
          "output_type": "stream",
          "text": [
            "68\n"
          ],
          "name": "stdout"
        },
        {
          "output_type": "execute_result",
          "data": {
            "text/plain": [
              "NoneType"
            ]
          },
          "metadata": {
            "tags": []
          },
          "execution_count": 20
        }
      ]
    },
    {
      "cell_type": "code",
      "metadata": {
        "id": "YdPXmASPZNLl",
        "outputId": "60801ff0-6edf-47b9-fc78-b6925b83005e"
      },
      "source": [
        "b = test(34,56)"
      ],
      "execution_count": null,
      "outputs": [
        {
          "output_type": "stream",
          "text": [
            "90\n"
          ],
          "name": "stdout"
        }
      ]
    },
    {
      "cell_type": "code",
      "metadata": {
        "id": "hoLSfJnAZNLm",
        "outputId": "a908afb6-1793-4ff4-a266-e86a5aac39a8"
      },
      "source": [
        "type(b)"
      ],
      "execution_count": null,
      "outputs": [
        {
          "output_type": "execute_result",
          "data": {
            "text/plain": [
              "NoneType"
            ]
          },
          "metadata": {
            "tags": []
          },
          "execution_count": 29
        }
      ]
    },
    {
      "cell_type": "code",
      "metadata": {
        "id": "sslV3XyDZNLn"
      },
      "source": [
        "def test1(b,m):\n",
        "    return b * m "
      ],
      "execution_count": null,
      "outputs": []
    },
    {
      "cell_type": "code",
      "metadata": {
        "id": "7YPuieRtZNLo"
      },
      "source": [
        "a = test1(5,89)"
      ],
      "execution_count": null,
      "outputs": []
    },
    {
      "cell_type": "code",
      "metadata": {
        "id": "9_5erQkyZNLo",
        "outputId": "efb69075-981b-4efb-e30d-a17cb2b82851"
      },
      "source": [
        "type(a)"
      ],
      "execution_count": null,
      "outputs": [
        {
          "output_type": "execute_result",
          "data": {
            "text/plain": [
              "int"
            ]
          },
          "metadata": {
            "tags": []
          },
          "execution_count": 30
        }
      ]
    },
    {
      "cell_type": "code",
      "metadata": {
        "id": "G6cHMLV-ZNLp"
      },
      "source": [
        "def test2(t,n,m):\n",
        "    return t + n\n",
        "    return n+m"
      ],
      "execution_count": null,
      "outputs": []
    },
    {
      "cell_type": "code",
      "metadata": {
        "id": "AVK4pxP2ZNLq",
        "outputId": "2f7da6df-a0dc-462d-f796-9c87f54b8873"
      },
      "source": [
        "test2(4,5,6)"
      ],
      "execution_count": null,
      "outputs": [
        {
          "output_type": "execute_result",
          "data": {
            "text/plain": [
              "9"
            ]
          },
          "metadata": {
            "tags": []
          },
          "execution_count": 78
        }
      ]
    },
    {
      "cell_type": "code",
      "metadata": {
        "id": "GbUsFGwnZNLr"
      },
      "source": [
        ""
      ],
      "execution_count": null,
      "outputs": []
    },
    {
      "cell_type": "code",
      "metadata": {
        "id": "6CTgsxFUZNLr"
      },
      "source": [
        ""
      ],
      "execution_count": null,
      "outputs": []
    },
    {
      "cell_type": "code",
      "metadata": {
        "id": "ThZtlxlaZNLs",
        "outputId": "cecb8ae4-5864-4525-f035-04c4be4fd669"
      },
      "source": [
        "test2(2,3,0)"
      ],
      "execution_count": null,
      "outputs": [
        {
          "output_type": "execute_result",
          "data": {
            "text/plain": [
              "5"
            ]
          },
          "metadata": {
            "tags": []
          },
          "execution_count": 33
        }
      ]
    },
    {
      "cell_type": "code",
      "metadata": {
        "id": "IIpo5Ab1ZNLs"
      },
      "source": [
        "def test3(n, m ):\n",
        "    return n*10 , m*40 ,m+n"
      ],
      "execution_count": null,
      "outputs": []
    },
    {
      "cell_type": "code",
      "metadata": {
        "id": "DWPL7bxvZNLt",
        "outputId": "a48685ef-bb4a-4afa-87d6-98b35a121507"
      },
      "source": [
        "test3(2,7)"
      ],
      "execution_count": null,
      "outputs": [
        {
          "output_type": "execute_result",
          "data": {
            "text/plain": [
              "(20, 280, 9)"
            ]
          },
          "metadata": {
            "tags": []
          },
          "execution_count": 37
        }
      ]
    },
    {
      "cell_type": "code",
      "metadata": {
        "id": "P7wfXpIGZNLu"
      },
      "source": [
        "c,x,v = test3(2,7)"
      ],
      "execution_count": null,
      "outputs": []
    },
    {
      "cell_type": "code",
      "metadata": {
        "id": "hMl3WIjeZNLu",
        "outputId": "4b6a66cc-78f7-44ca-ff5d-dfae5e57e079"
      },
      "source": [
        "c"
      ],
      "execution_count": null,
      "outputs": [
        {
          "output_type": "execute_result",
          "data": {
            "text/plain": [
              "20"
            ]
          },
          "metadata": {
            "tags": []
          },
          "execution_count": 39
        }
      ]
    },
    {
      "cell_type": "code",
      "metadata": {
        "id": "yxtbhIjqZNLv",
        "outputId": "ed8f32f7-7b30-4078-f511-acc18068ad6d"
      },
      "source": [
        "x"
      ],
      "execution_count": null,
      "outputs": [
        {
          "output_type": "execute_result",
          "data": {
            "text/plain": [
              "280"
            ]
          },
          "metadata": {
            "tags": []
          },
          "execution_count": 40
        }
      ]
    },
    {
      "cell_type": "code",
      "metadata": {
        "id": "4hMSAHNmZNLw",
        "outputId": "eb0c1335-aec1-462d-d3b4-4e5ff749c339"
      },
      "source": [
        "v"
      ],
      "execution_count": null,
      "outputs": [
        {
          "output_type": "execute_result",
          "data": {
            "text/plain": [
              "9"
            ]
          },
          "metadata": {
            "tags": []
          },
          "execution_count": 41
        }
      ]
    },
    {
      "cell_type": "code",
      "metadata": {
        "id": "YacOPncJZNLw"
      },
      "source": [
        "c , x , _ = test3(2,7)"
      ],
      "execution_count": null,
      "outputs": []
    },
    {
      "cell_type": "code",
      "metadata": {
        "id": "KJQfhkv9ZNLx",
        "outputId": "4e3ce44b-f63d-4d98-8d26-113264b2c285"
      },
      "source": [
        "c "
      ],
      "execution_count": null,
      "outputs": [
        {
          "output_type": "execute_result",
          "data": {
            "text/plain": [
              "20"
            ]
          },
          "metadata": {
            "tags": []
          },
          "execution_count": 51
        }
      ]
    },
    {
      "cell_type": "code",
      "metadata": {
        "id": "5gWcQqF1ZNLx",
        "outputId": "c1bd5d3d-9d1c-4aef-ddbf-eee53e39230d"
      },
      "source": [
        "x"
      ],
      "execution_count": null,
      "outputs": [
        {
          "output_type": "execute_result",
          "data": {
            "text/plain": [
              "280"
            ]
          },
          "metadata": {
            "tags": []
          },
          "execution_count": 52
        }
      ]
    },
    {
      "cell_type": "code",
      "metadata": {
        "id": "KRX4qKbIZNLy",
        "outputId": "18fc0b47-fce0-4b80-df12-1e5e2a937e8c",
        "colab": {
          "base_uri": "https://localhost:8080/",
          "height": 35
        }
      },
      "source": [
        "\n",
        "_"
      ],
      "execution_count": 1,
      "outputs": [
        {
          "output_type": "execute_result",
          "data": {
            "application/vnd.google.colaboratory.intrinsic+json": {
              "type": "string"
            },
            "text/plain": [
              "''"
            ]
          },
          "metadata": {
            "tags": []
          },
          "execution_count": 1
        }
      ]
    },
    {
      "cell_type": "code",
      "metadata": {
        "id": "7mCKBfZqZNLy",
        "outputId": "572d8908-ba6e-4005-e1bf-1ddffdfb2adc",
        "colab": {
          "base_uri": "https://localhost:8080/",
          "height": 163
        }
      },
      "source": [
        "_,_ , m= test3(2,7)"
      ],
      "execution_count": 2,
      "outputs": [
        {
          "output_type": "error",
          "ename": "NameError",
          "evalue": "ignored",
          "traceback": [
            "\u001b[0;31m---------------------------------------------------------------------------\u001b[0m",
            "\u001b[0;31mNameError\u001b[0m                                 Traceback (most recent call last)",
            "\u001b[0;32m<ipython-input-2-5c4ab77816ee>\u001b[0m in \u001b[0;36m<module>\u001b[0;34m()\u001b[0m\n\u001b[0;32m----> 1\u001b[0;31m \u001b[0m_\u001b[0m\u001b[0;34m,\u001b[0m\u001b[0m_\u001b[0m \u001b[0;34m,\u001b[0m \u001b[0mm\u001b[0m\u001b[0;34m=\u001b[0m \u001b[0mtest3\u001b[0m\u001b[0;34m(\u001b[0m\u001b[0;36m2\u001b[0m\u001b[0;34m,\u001b[0m\u001b[0;36m7\u001b[0m\u001b[0;34m)\u001b[0m\u001b[0;34m\u001b[0m\u001b[0;34m\u001b[0m\u001b[0m\n\u001b[0m",
            "\u001b[0;31mNameError\u001b[0m: name 'test3' is not defined"
          ]
        }
      ]
    },
    {
      "cell_type": "code",
      "metadata": {
        "id": "kGg4tC8TZNLz",
        "outputId": "ee30b1b9-0f66-4c57-9985-baebfc2b2108"
      },
      "source": [
        "c"
      ],
      "execution_count": null,
      "outputs": [
        {
          "output_type": "execute_result",
          "data": {
            "text/plain": [
              "20"
            ]
          },
          "metadata": {
            "tags": []
          },
          "execution_count": 74
        }
      ]
    },
    {
      "cell_type": "code",
      "metadata": {
        "id": "GUwgjXCDZNL0",
        "outputId": "9946dc0d-cb4e-44fc-ab34-2385a5574e53"
      },
      "source": [
        "m"
      ],
      "execution_count": null,
      "outputs": [
        {
          "output_type": "execute_result",
          "data": {
            "text/plain": [
              "9"
            ]
          },
          "metadata": {
            "tags": []
          },
          "execution_count": 75
        }
      ]
    },
    {
      "cell_type": "code",
      "metadata": {
        "id": "lXmyL5w3ZNL0",
        "outputId": "758a64e9-514c-4146-b63f-bd59c9b83d73"
      },
      "source": [
        "_"
      ],
      "execution_count": null,
      "outputs": [
        {
          "output_type": "execute_result",
          "data": {
            "text/plain": [
              "280"
            ]
          },
          "metadata": {
            "tags": []
          },
          "execution_count": 76
        }
      ]
    },
    {
      "cell_type": "code",
      "metadata": {
        "id": "5l-cq5jJZNL1"
      },
      "source": [
        "def test():\n",
        "    print(\"this is my first funcation \")"
      ],
      "execution_count": null,
      "outputs": []
    },
    {
      "cell_type": "code",
      "metadata": {
        "id": "xmAkuvp_ZNL2",
        "outputId": "b7e20b38-02eb-40ac-e30e-b149aa420582"
      },
      "source": [
        "m = test()"
      ],
      "execution_count": null,
      "outputs": [
        {
          "output_type": "stream",
          "text": [
            "this is my first funcation \n"
          ],
          "name": "stdout"
        }
      ]
    },
    {
      "cell_type": "code",
      "metadata": {
        "id": "hJ97WLxHZNL2",
        "outputId": "193dd781-054c-4130-a634-628b4f9c1f14"
      },
      "source": [
        "m + \"fsdfsfsd\""
      ],
      "execution_count": null,
      "outputs": [
        {
          "output_type": "error",
          "ename": "TypeError",
          "evalue": "unsupported operand type(s) for +: 'NoneType' and 'str'",
          "traceback": [
            "\u001b[1;31m---------------------------------------------------------------------------\u001b[0m",
            "\u001b[1;31mTypeError\u001b[0m                                 Traceback (most recent call last)",
            "\u001b[1;32m<ipython-input-82-0231523aa123>\u001b[0m in \u001b[0;36m<module>\u001b[1;34m\u001b[0m\n\u001b[1;32m----> 1\u001b[1;33m \u001b[0mm\u001b[0m \u001b[1;33m+\u001b[0m \u001b[1;34m\"fsdfsfsd\"\u001b[0m\u001b[1;33m\u001b[0m\u001b[1;33m\u001b[0m\u001b[0m\n\u001b[0m",
            "\u001b[1;31mTypeError\u001b[0m: unsupported operand type(s) for +: 'NoneType' and 'str'"
          ]
        }
      ]
    },
    {
      "cell_type": "code",
      "metadata": {
        "id": "yLwKw3CzZNL3"
      },
      "source": [
        "def test7():\n",
        "    return \"this is my first class \""
      ],
      "execution_count": null,
      "outputs": []
    },
    {
      "cell_type": "code",
      "metadata": {
        "id": "rFIkchLJZNL3"
      },
      "source": [
        "n = test7()"
      ],
      "execution_count": null,
      "outputs": []
    },
    {
      "cell_type": "code",
      "metadata": {
        "id": "iVngN8amZNL4",
        "outputId": "8d48090a-56fc-46be-a317-d821e8e273c7"
      },
      "source": [
        "n + \"fsfsfsd\""
      ],
      "execution_count": null,
      "outputs": [
        {
          "output_type": "execute_result",
          "data": {
            "text/plain": [
              "'this is my first class fsfsfsd'"
            ]
          },
          "metadata": {
            "tags": []
          },
          "execution_count": 86
        }
      ]
    },
    {
      "cell_type": "code",
      "metadata": {
        "id": "gz4rZRj5ZNL5"
      },
      "source": [
        "def test8(n):\n",
        "    return n * 2"
      ],
      "execution_count": null,
      "outputs": []
    },
    {
      "cell_type": "code",
      "metadata": {
        "id": "Ie60rVrBZNL5",
        "outputId": "eee456b5-8804-4e13-caaf-6d3d4046cbb4"
      },
      "source": [
        "test8([3,4,5,6,7])"
      ],
      "execution_count": null,
      "outputs": [
        {
          "output_type": "execute_result",
          "data": {
            "text/plain": [
              "[3, 4, 5, 6, 7, 3, 4, 5, 6, 7]"
            ]
          },
          "metadata": {
            "tags": []
          },
          "execution_count": 88
        }
      ]
    },
    {
      "cell_type": "code",
      "metadata": {
        "id": "XEHb-2PbZNL6",
        "outputId": "57ea31cc-433b-45e4-ac16-3c4fcceef855"
      },
      "source": [
        "test8(67)"
      ],
      "execution_count": null,
      "outputs": [
        {
          "output_type": "execute_result",
          "data": {
            "text/plain": [
              "134"
            ]
          },
          "metadata": {
            "tags": []
          },
          "execution_count": 89
        }
      ]
    },
    {
      "cell_type": "code",
      "metadata": {
        "id": "85hgUNriZNL6"
      },
      "source": [
        "def test9(n):\n",
        "    return n,n*2"
      ],
      "execution_count": null,
      "outputs": []
    },
    {
      "cell_type": "code",
      "metadata": {
        "id": "5Z8bf3bwZNL7"
      },
      "source": [
        "b = test9([4,5,6,6,7])"
      ],
      "execution_count": null,
      "outputs": []
    },
    {
      "cell_type": "code",
      "metadata": {
        "id": "SxNusKPVZNL7",
        "outputId": "5bb20e3f-6b8e-4176-8131-6db67ad23f33"
      },
      "source": [
        "b"
      ],
      "execution_count": null,
      "outputs": [
        {
          "output_type": "execute_result",
          "data": {
            "text/plain": [
              "([4, 5, 6, 6, 7], [4, 5, 6, 6, 7, 4, 5, 6, 6, 7])"
            ]
          },
          "metadata": {
            "tags": []
          },
          "execution_count": 95
        }
      ]
    },
    {
      "cell_type": "code",
      "metadata": {
        "id": "tRAW7SUqZNL8",
        "outputId": "28355294-c613-4fa9-e9a3-fd04ef20698c"
      },
      "source": [
        "b[0]"
      ],
      "execution_count": null,
      "outputs": [
        {
          "output_type": "execute_result",
          "data": {
            "text/plain": [
              "[4, 5, 6, 6, 7]"
            ]
          },
          "metadata": {
            "tags": []
          },
          "execution_count": 96
        }
      ]
    },
    {
      "cell_type": "code",
      "metadata": {
        "id": "FXQriQIsZNL9",
        "outputId": "7e4075dc-a251-4841-b2e1-677d03321ac8"
      },
      "source": [
        "b[1]"
      ],
      "execution_count": null,
      "outputs": [
        {
          "output_type": "execute_result",
          "data": {
            "text/plain": [
              "[4, 5, 6, 6, 7, 4, 5, 6, 6, 7]"
            ]
          },
          "metadata": {
            "tags": []
          },
          "execution_count": 97
        }
      ]
    },
    {
      "cell_type": "code",
      "metadata": {
        "id": "y27fmsYxZNL-"
      },
      "source": [
        "def test10(n , m = 90 ):\n",
        "    return n + m "
      ],
      "execution_count": null,
      "outputs": []
    },
    {
      "cell_type": "code",
      "metadata": {
        "id": "nYMcNOCYZNL-",
        "outputId": "460b6856-4e23-476f-f552-2c79eae1bdb7"
      },
      "source": [
        "test10(60, 30)"
      ],
      "execution_count": null,
      "outputs": [
        {
          "output_type": "execute_result",
          "data": {
            "text/plain": [
              "90"
            ]
          },
          "metadata": {
            "tags": []
          },
          "execution_count": 106
        }
      ]
    },
    {
      "cell_type": "code",
      "metadata": {
        "id": "m9Eod_z-ZNL_"
      },
      "source": [
        "print()"
      ],
      "execution_count": null,
      "outputs": []
    },
    {
      "cell_type": "code",
      "metadata": {
        "id": "fMLwW1xmZNL_"
      },
      "source": [
        "def boolx(x = True , y = False):\n",
        "    return x + y "
      ],
      "execution_count": null,
      "outputs": []
    },
    {
      "cell_type": "code",
      "metadata": {
        "id": "_CYm2wkdZNMA",
        "outputId": "6772cbeb-ed94-49c9-d27c-47fb23b411c7"
      },
      "source": [
        "boolx()"
      ],
      "execution_count": null,
      "outputs": [
        {
          "output_type": "execute_result",
          "data": {
            "text/plain": [
              "1"
            ]
          },
          "metadata": {
            "tags": []
          },
          "execution_count": 108
        }
      ]
    },
    {
      "cell_type": "code",
      "metadata": {
        "id": "EWkzkybKZNMA",
        "outputId": "ac3a41dd-fe8b-4305-e059-3a47735b3644"
      },
      "source": [
        "boolx(False)"
      ],
      "execution_count": null,
      "outputs": [
        {
          "output_type": "execute_result",
          "data": {
            "text/plain": [
              "0"
            ]
          },
          "metadata": {
            "tags": []
          },
          "execution_count": 109
        }
      ]
    },
    {
      "cell_type": "code",
      "metadata": {
        "id": "yjAGRoAdZNMB",
        "outputId": "55370142-ca6a-4daf-e174-219f77736e74"
      },
      "source": [
        "boolx(False , 8)"
      ],
      "execution_count": null,
      "outputs": [
        {
          "output_type": "execute_result",
          "data": {
            "text/plain": [
              "8"
            ]
          },
          "metadata": {
            "tags": []
          },
          "execution_count": 111
        }
      ]
    },
    {
      "cell_type": "code",
      "metadata": {
        "id": "X9MxU_tPZNMC",
        "outputId": "0ac583c3-a12a-4be9-92c3-8b62c89fcdaf"
      },
      "source": [
        "True + False"
      ],
      "execution_count": null,
      "outputs": [
        {
          "output_type": "execute_result",
          "data": {
            "text/plain": [
              "1"
            ]
          },
          "metadata": {
            "tags": []
          },
          "execution_count": 112
        }
      ]
    },
    {
      "cell_type": "code",
      "metadata": {
        "id": "OHgfGobOZNMC"
      },
      "source": [
        "def travel( bike = True , car = False ) : \n",
        "    plan_travel = bike or car \n",
        "    return bike , car , plan_travel"
      ],
      "execution_count": null,
      "outputs": []
    },
    {
      "cell_type": "code",
      "metadata": {
        "id": "KSnO_-NRZNMD",
        "outputId": "b20086dd-463e-47f5-864b-4fde7cbffd60"
      },
      "source": [
        "travel()"
      ],
      "execution_count": null,
      "outputs": [
        {
          "output_type": "execute_result",
          "data": {
            "text/plain": [
              "(True, False, True)"
            ]
          },
          "metadata": {
            "tags": []
          },
          "execution_count": 115
        }
      ]
    },
    {
      "cell_type": "code",
      "metadata": {
        "id": "jcKP2ZydZNMD",
        "outputId": "0cd2cb21-51cd-4345-c4bf-c4371dc3ddf2"
      },
      "source": [
        "travel(car  = True )"
      ],
      "execution_count": null,
      "outputs": [
        {
          "output_type": "execute_result",
          "data": {
            "text/plain": [
              "(True, True, True)"
            ]
          },
          "metadata": {
            "tags": []
          },
          "execution_count": 117
        }
      ]
    },
    {
      "cell_type": "code",
      "metadata": {
        "id": "YC8GzoK2ZNME",
        "outputId": "046a78f8-c50a-48a2-f8d0-3576f22c2cda"
      },
      "source": [
        "travel(_, True)"
      ],
      "execution_count": null,
      "outputs": [
        {
          "output_type": "execute_result",
          "data": {
            "text/plain": [
              "(280, True, 280)"
            ]
          },
          "metadata": {
            "tags": []
          },
          "execution_count": 118
        }
      ]
    },
    {
      "cell_type": "code",
      "metadata": {
        "id": "y4Ozpb-4ZNMF",
        "outputId": "3397dcb7-b041-46e5-87a6-3b4980079392"
      },
      "source": [
        "_"
      ],
      "execution_count": null,
      "outputs": [
        {
          "output_type": "execute_result",
          "data": {
            "text/plain": [
              "280"
            ]
          },
          "metadata": {
            "tags": []
          },
          "execution_count": 119
        }
      ]
    },
    {
      "cell_type": "code",
      "metadata": {
        "id": "q40SIntrZNMF"
      },
      "source": [
        "def test11(*args ):\n",
        "    return args "
      ],
      "execution_count": null,
      "outputs": []
    },
    {
      "cell_type": "code",
      "metadata": {
        "id": "Hc_8v_sCZNMG",
        "outputId": "ca372da0-e119-4eb7-dd50-3fa8ddadd10e"
      },
      "source": [
        "test11(\"sudhanshu\" , \"kumar \", 34,[34,4,4,5,454,54])"
      ],
      "execution_count": null,
      "outputs": [
        {
          "output_type": "execute_result",
          "data": {
            "text/plain": [
              "('sudhanshu', 'kumar ', 34, [34, 4, 4, 5, 454, 54])"
            ]
          },
          "metadata": {
            "tags": []
          },
          "execution_count": 123
        }
      ]
    },
    {
      "cell_type": "code",
      "metadata": {
        "id": "Aew_eKAKZNMG"
      },
      "source": [
        "def test12(a , b , c ):\n",
        "    return a + b + c "
      ],
      "execution_count": null,
      "outputs": []
    },
    {
      "cell_type": "code",
      "metadata": {
        "id": "ow1JC-hPZNMH",
        "outputId": "4cb8d9a7-0117-4b3f-dc82-ea8dc0e10ab7"
      },
      "source": [
        "test12([1,2,3,4] , [4,5,6,7] , [4,5,6,78])"
      ],
      "execution_count": null,
      "outputs": [
        {
          "output_type": "execute_result",
          "data": {
            "text/plain": [
              "[1, 2, 3, 4, 4, 5, 6, 7, 4, 5, 6, 78]"
            ]
          },
          "metadata": {
            "tags": []
          },
          "execution_count": 126
        }
      ]
    },
    {
      "cell_type": "code",
      "metadata": {
        "id": "n0ekPFYJZNMI"
      },
      "source": [
        "def test13(*args):\n",
        "    l = []\n",
        "    for i in args:\n",
        "        l = l + i\n",
        "    return l \n",
        "        "
      ],
      "execution_count": null,
      "outputs": []
    },
    {
      "cell_type": "code",
      "metadata": {
        "id": "B_4Z6k6rZNMI",
        "outputId": "3f8368d5-f432-4c69-a7e6-7e09a793063d"
      },
      "source": [
        "test13([3,4,5,6] , [3,4,5,6,7] , [3,4,5,6])"
      ],
      "execution_count": null,
      "outputs": [
        {
          "output_type": "execute_result",
          "data": {
            "text/plain": [
              "[3, 4, 5, 6, 3, 4, 5, 6, 7, 3, 4, 5, 6]"
            ]
          },
          "metadata": {
            "tags": []
          },
          "execution_count": 131
        }
      ]
    },
    {
      "cell_type": "code",
      "metadata": {
        "id": "i0CMTeoQZNMM",
        "outputId": "a8f1c479-a0ec-4033-f8bc-9913c9c36a45"
      },
      "source": [
        "test13([4,5,6,6],[4,5,6,7])"
      ],
      "execution_count": null,
      "outputs": [
        {
          "output_type": "execute_result",
          "data": {
            "text/plain": [
              "[4, 5, 6, 6, 4, 5, 6, 7]"
            ]
          },
          "metadata": {
            "tags": []
          },
          "execution_count": 132
        }
      ]
    },
    {
      "cell_type": "code",
      "metadata": {
        "id": "4gpT6dLgZNMN"
      },
      "source": [
        "def test14(*args):\n",
        "    return [i for i in args]"
      ],
      "execution_count": null,
      "outputs": []
    },
    {
      "cell_type": "code",
      "metadata": {
        "id": "lJzhHXDRZNMO",
        "outputId": "01e98c2d-3199-42a1-c303-4ba02abb28b3"
      },
      "source": [
        "test14([4,5,6,6],[4,5,6,7])"
      ],
      "execution_count": null,
      "outputs": [
        {
          "output_type": "execute_result",
          "data": {
            "text/plain": [
              "[[4, 5, 6, 6], [4, 5, 6, 7]]"
            ]
          },
          "metadata": {
            "tags": []
          },
          "execution_count": 136
        }
      ]
    },
    {
      "cell_type": "code",
      "metadata": {
        "id": "ryWPvqRQZNMO",
        "outputId": "4d9c2674-1ff0-4500-887b-8695222ba4c1"
      },
      "source": [
        "test13(\"fdsfdsf\" , 234,[3,4,5,6,7,8] , [5,7,7,8,9])"
      ],
      "execution_count": null,
      "outputs": [
        {
          "output_type": "error",
          "ename": "TypeError",
          "evalue": "can only concatenate list (not \"str\") to list",
          "traceback": [
            "\u001b[1;31m---------------------------------------------------------------------------\u001b[0m",
            "\u001b[1;31mTypeError\u001b[0m                                 Traceback (most recent call last)",
            "\u001b[1;32m<ipython-input-138-a7757a0ef063>\u001b[0m in \u001b[0;36m<module>\u001b[1;34m\u001b[0m\n\u001b[1;32m----> 1\u001b[1;33m \u001b[0mtest13\u001b[0m\u001b[1;33m(\u001b[0m\u001b[1;34m\"fdsfdsf\"\u001b[0m \u001b[1;33m,\u001b[0m \u001b[1;36m234\u001b[0m\u001b[1;33m,\u001b[0m\u001b[1;33m[\u001b[0m\u001b[1;36m3\u001b[0m\u001b[1;33m,\u001b[0m\u001b[1;36m4\u001b[0m\u001b[1;33m,\u001b[0m\u001b[1;36m5\u001b[0m\u001b[1;33m,\u001b[0m\u001b[1;36m6\u001b[0m\u001b[1;33m,\u001b[0m\u001b[1;36m7\u001b[0m\u001b[1;33m,\u001b[0m\u001b[1;36m8\u001b[0m\u001b[1;33m]\u001b[0m \u001b[1;33m,\u001b[0m \u001b[1;33m[\u001b[0m\u001b[1;36m5\u001b[0m\u001b[1;33m,\u001b[0m\u001b[1;36m7\u001b[0m\u001b[1;33m,\u001b[0m\u001b[1;36m7\u001b[0m\u001b[1;33m,\u001b[0m\u001b[1;36m8\u001b[0m\u001b[1;33m,\u001b[0m\u001b[1;36m9\u001b[0m\u001b[1;33m]\u001b[0m\u001b[1;33m)\u001b[0m\u001b[1;33m\u001b[0m\u001b[1;33m\u001b[0m\u001b[0m\n\u001b[0m",
            "\u001b[1;32m<ipython-input-137-d3d701c2feef>\u001b[0m in \u001b[0;36mtest13\u001b[1;34m(*args)\u001b[0m\n\u001b[0;32m      2\u001b[0m     \u001b[0ml\u001b[0m \u001b[1;33m=\u001b[0m \u001b[1;33m[\u001b[0m\u001b[1;33m]\u001b[0m\u001b[1;33m\u001b[0m\u001b[1;33m\u001b[0m\u001b[0m\n\u001b[0;32m      3\u001b[0m     \u001b[1;32mfor\u001b[0m \u001b[0mi\u001b[0m \u001b[1;32min\u001b[0m \u001b[0margs\u001b[0m\u001b[1;33m:\u001b[0m\u001b[1;33m\u001b[0m\u001b[1;33m\u001b[0m\u001b[0m\n\u001b[1;32m----> 4\u001b[1;33m         \u001b[0ml\u001b[0m \u001b[1;33m=\u001b[0m \u001b[0ml\u001b[0m \u001b[1;33m+\u001b[0m \u001b[0mi\u001b[0m\u001b[1;33m\u001b[0m\u001b[1;33m\u001b[0m\u001b[0m\n\u001b[0m\u001b[0;32m      5\u001b[0m     \u001b[1;32mreturn\u001b[0m \u001b[0ml\u001b[0m\u001b[1;33m\u001b[0m\u001b[1;33m\u001b[0m\u001b[0m\n\u001b[0;32m      6\u001b[0m \u001b[1;33m\u001b[0m\u001b[0m\n",
            "\u001b[1;31mTypeError\u001b[0m: can only concatenate list (not \"str\") to list"
          ]
        }
      ]
    },
    {
      "cell_type": "code",
      "metadata": {
        "id": "ZW-edNS2ZNMP"
      },
      "source": [
        "def test15(*args):\n",
        "    l = []\n",
        "    for i in args:\n",
        "        if type(i) == list:\n",
        "            \n",
        "            l = l + i\n",
        "    return l "
      ],
      "execution_count": null,
      "outputs": []
    },
    {
      "cell_type": "code",
      "metadata": {
        "id": "DwaQ3qh8ZNMP",
        "outputId": "def97680-96b9-458d-9351-c75086119c83"
      },
      "source": [
        "test15(\"fdsfdsf\" , 234,[3,4,5,6,7,8] , [5,7,7,8,9])"
      ],
      "execution_count": null,
      "outputs": [
        {
          "output_type": "execute_result",
          "data": {
            "text/plain": [
              "[3, 4, 5, 6, 7, 8, 5, 7, 7, 8, 9]"
            ]
          },
          "metadata": {
            "tags": []
          },
          "execution_count": 140
        }
      ]
    },
    {
      "cell_type": "code",
      "metadata": {
        "id": "MY5777PjZNMQ"
      },
      "source": [
        "def test16(**kwargs):\n",
        "    return kwargs"
      ],
      "execution_count": null,
      "outputs": []
    },
    {
      "cell_type": "code",
      "metadata": {
        "id": "T2gMrpKdZNMQ",
        "outputId": "a474034e-28ef-4668-fe58-3c72e13490ac"
      },
      "source": [
        "test16(4,56,56)"
      ],
      "execution_count": null,
      "outputs": [
        {
          "output_type": "error",
          "ename": "TypeError",
          "evalue": "test16() takes 0 positional arguments but 3 were given",
          "traceback": [
            "\u001b[1;31m---------------------------------------------------------------------------\u001b[0m",
            "\u001b[1;31mTypeError\u001b[0m                                 Traceback (most recent call last)",
            "\u001b[1;32m<ipython-input-142-9fdf3b93d92e>\u001b[0m in \u001b[0;36m<module>\u001b[1;34m\u001b[0m\n\u001b[1;32m----> 1\u001b[1;33m \u001b[0mtest16\u001b[0m\u001b[1;33m(\u001b[0m\u001b[1;36m4\u001b[0m\u001b[1;33m,\u001b[0m\u001b[1;36m56\u001b[0m\u001b[1;33m,\u001b[0m\u001b[1;36m56\u001b[0m\u001b[1;33m)\u001b[0m\u001b[1;33m\u001b[0m\u001b[1;33m\u001b[0m\u001b[0m\n\u001b[0m",
            "\u001b[1;31mTypeError\u001b[0m: test16() takes 0 positional arguments but 3 were given"
          ]
        }
      ]
    },
    {
      "cell_type": "code",
      "metadata": {
        "id": "Naae0VR9ZNMR",
        "outputId": "bfb06a44-3484-4bd9-a2f3-d2b9afd68dad"
      },
      "source": [
        "test16(a = 8 , b = True , c = [4,5,6,6,\"kumar\"] , d = \"sudh\")"
      ],
      "execution_count": null,
      "outputs": [
        {
          "output_type": "execute_result",
          "data": {
            "text/plain": [
              "{'a': 8, 'b': True, 'c': [4, 5, 6, 6, 'kumar'], 'd': 'sudh'}"
            ]
          },
          "metadata": {
            "tags": []
          },
          "execution_count": 145
        }
      ]
    },
    {
      "cell_type": "code",
      "metadata": {
        "id": "Uj588ncBZNMR"
      },
      "source": [
        "def test17(*args):\n",
        "    return args"
      ],
      "execution_count": null,
      "outputs": []
    },
    {
      "cell_type": "code",
      "metadata": {
        "id": "IHZz4B72ZNMS",
        "outputId": "0d064cb9-efe0-4ed1-941d-243fb2a685dc"
      },
      "source": [
        "test17(4,5,6,7, \"sudh\" , [4,5,6,7,8])"
      ],
      "execution_count": null,
      "outputs": [
        {
          "output_type": "execute_result",
          "data": {
            "text/plain": [
              "(4, 5, 6, 7, 'sudh', [4, 5, 6, 7, 8])"
            ]
          },
          "metadata": {
            "tags": []
          },
          "execution_count": 149
        }
      ]
    },
    {
      "cell_type": "code",
      "metadata": {
        "id": "o2cttL5MZNMS"
      },
      "source": [
        "#1\n",
        "def fun1(*args):\n",
        "    a=[]\n",
        "    b=[]\n",
        "    c=[]\n",
        "    d=[]\n",
        "    e=[]\n",
        "    f=[]\n",
        "    g=[]\n",
        "    for i in args:\n",
        "        if type(i)==int:\n",
        "            a.append(i)\n",
        "        if type(i)==float:\n",
        "            b.append(i)\n",
        "        if type(i)==str:\n",
        "            c.append(i)\n",
        "        if type(i)==tuple:\n",
        "            d.append(i)\n",
        "        if type(i)==list:\n",
        "            e.append(i)\n",
        "        if type(i)==dict:\n",
        "            f.append(i)\n",
        "        if type(i)==bool:\n",
        "            g.append(i)\n",
        "    return a,b,c,d,e,f,g\n",
        "\n",
        "#2 \n",
        "def fun2(*args,**kwargs):\n",
        "    l=[i for i in args]\n",
        "    d=[i for i in kwargs]\n",
        "    return l,d\n"
      ],
      "execution_count": null,
      "outputs": []
    },
    {
      "cell_type": "code",
      "metadata": {
        "id": "cWwjjE4rZNMT"
      },
      "source": [
        "#1\n",
        "def fun1(*args):\n",
        "    a=[]\n",
        "    b=[]\n",
        "    c=[]\n",
        "    d=[]\n",
        "    e=[]\n",
        "    f=[]\n",
        "    g=[]\n",
        "    for i in args:\n",
        "        if type(i)==int:\n",
        "            a.append(i)\n",
        "        if type(i)==float:\n",
        "            b.append(i)\n",
        "        if type(i)==str:\n",
        "            c.append(i)\n",
        "        if type(i)==tuple:\n",
        "            d.append(i)\n",
        "        if type(i)==list:\n",
        "            e.append(i)\n",
        "        if type(i)==dict:\n",
        "            f.append(i)\n",
        "        if type(i)==bool:\n",
        "            g.append(i)\n",
        "    return a,b,c,d,e,f,g"
      ],
      "execution_count": null,
      "outputs": []
    },
    {
      "cell_type": "code",
      "metadata": {
        "id": "nqdLiOVcZNMU",
        "outputId": "530bc93b-6bbb-42ab-f3e1-7ea1c8110a3a"
      },
      "source": [
        "fun1(3,4,5,6,6,7.45,True ,False , [4,5,6,7,8,9] , [4,5,6,7,8,90] , 4+5j)"
      ],
      "execution_count": null,
      "outputs": [
        {
          "output_type": "execute_result",
          "data": {
            "text/plain": [
              "([3, 4, 5, 6, 6],\n",
              " [7.45],\n",
              " [],\n",
              " [],\n",
              " [[4, 5, 6, 7, 8, 9], [4, 5, 6, 7, 8, 90]],\n",
              " [],\n",
              " [True, False])"
            ]
          },
          "metadata": {
            "tags": []
          },
          "execution_count": 152
        }
      ]
    },
    {
      "cell_type": "code",
      "metadata": {
        "id": "QtWuTRL7ZNMU"
      },
      "source": [
        "def fun2(*args,**kwargs):\n",
        "    l=[i for i in args if type(i) == list ]\n",
        "    d=[i[1] for i in kwargs.items() if type(i[1]) == list ]\n",
        "    return l,d"
      ],
      "execution_count": null,
      "outputs": []
    },
    {
      "cell_type": "code",
      "metadata": {
        "id": "tCfo9r7yZNMV",
        "outputId": "e1293465-b5bd-430f-c6eb-1d99142e8439"
      },
      "source": [
        "fun2([4,5,6,7,8] , [5,6,7,8,9,0] , 5,5,6,7, a = 5 , b = \"fsdfds\" , m = [4,5,6,7])"
      ],
      "execution_count": null,
      "outputs": [
        {
          "output_type": "execute_result",
          "data": {
            "text/plain": [
              "([[4, 5, 6, 7, 8], [5, 6, 7, 8, 9, 0]], [[4, 5, 6, 7]])"
            ]
          },
          "metadata": {
            "tags": []
          },
          "execution_count": 166
        }
      ]
    },
    {
      "cell_type": "code",
      "metadata": {
        "id": "jOefp_zvZNMV"
      },
      "source": [
        "def test18(**kwargs):\n",
        "    for i in kwargs.items():\n",
        "        if type(i[1])== list :\n",
        "            if \"sudh\" in i[1] :\n",
        "                print(\"i am able to find your name in input data \")\n",
        "                print(i[1])\n",
        "    return kwargs"
      ],
      "execution_count": null,
      "outputs": []
    },
    {
      "cell_type": "code",
      "metadata": {
        "id": "CO4G6aV5ZNMW",
        "outputId": "41ed6bcf-e02b-41fd-c321-7c47b66bf8f0"
      },
      "source": [
        "test18(b =6 , c = [4,5,6,7] , d = [\"sudh\" , \"kumar \" , 5.67], n = 6 + 7j)"
      ],
      "execution_count": null,
      "outputs": [
        {
          "output_type": "stream",
          "text": [
            "i am able to find your name in input data \n",
            "['sudh', 'kumar ', 5.67]\n"
          ],
          "name": "stdout"
        },
        {
          "output_type": "execute_result",
          "data": {
            "text/plain": [
              "{'b': 6, 'c': [4, 5, 6, 7], 'd': ['sudh', 'kumar ', 5.67], 'n': (6+7j)}"
            ]
          },
          "metadata": {
            "tags": []
          },
          "execution_count": 197
        }
      ]
    },
    {
      "cell_type": "code",
      "metadata": {
        "id": "FwgUaKSgZNMW"
      },
      "source": [
        "d ={'b': 6, 'c': [4, 5, 6, 7], 'd': ['sudh', 'kumar ', 5.67], 'n': (6+7j)}"
      ],
      "execution_count": null,
      "outputs": []
    },
    {
      "cell_type": "code",
      "metadata": {
        "id": "AWM8-6FvZNMX",
        "outputId": "c818d10e-2f6a-4b94-927d-dad5a511b1fe"
      },
      "source": [
        "d.values()"
      ],
      "execution_count": null,
      "outputs": [
        {
          "output_type": "execute_result",
          "data": {
            "text/plain": [
              "dict_values([6, [4, 5, 6, 7], ['sudh', 'kumar ', 5.67], (6+7j)])"
            ]
          },
          "metadata": {
            "tags": []
          },
          "execution_count": 201
        }
      ]
    },
    {
      "cell_type": "code",
      "metadata": {
        "id": "REHoqIxrZNMX",
        "outputId": "5e0db21c-42b3-4cae-ab40-cb555fbe0e41"
      },
      "source": [
        "def func1(*args):\n",
        "  dt = {}\n",
        "  for i in args:\n",
        "    if type(i) in dt:\n",
        "      dt[type(i)].append(i)\n",
        "    else:\n",
        "      dt[type(i)] = [i]\n",
        "  return dt\n",
        "    \n",
        "func1(1,2,3,[5,6,7],'hi','io', 6+7j , 6+4j)\n"
      ],
      "execution_count": null,
      "outputs": [
        {
          "output_type": "execute_result",
          "data": {
            "text/plain": [
              "{int: [1, 2, 3],\n",
              " list: [[5, 6, 7]],\n",
              " str: ['hi', 'io'],\n",
              " complex: [(6+7j), (6+4j)]}"
            ]
          },
          "metadata": {
            "tags": []
          },
          "execution_count": 205
        }
      ]
    },
    {
      "cell_type": "code",
      "metadata": {
        "id": "J0rjTcf0ZNMY",
        "outputId": "edb363d1-3df4-4216-db83-11df69b9aaa6",
        "colab": {
          "base_uri": "https://localhost:8080/"
        }
      },
      "source": [
        "# superclass\n",
        "class Person():\n",
        "    def getGender(self):\n",
        "        print(\"I am a person\")\n",
        " \n",
        "# subclass\t\t\n",
        "class Male(Person):\n",
        "    def getGender(self):\n",
        "        print(\"I am male\")\n",
        "class Female(Person):\n",
        "    def getGender(self):\n",
        "        print(\"I am Female\")\n",
        "\t\t\n",
        "p = Person()  # creating object of superclass\n",
        "q=Male()\n",
        "r=Female()\n",
        "\n",
        "\n",
        "p.getGender() \n",
        "q.getGender()\n",
        "r.getGender()\n"
      ],
      "execution_count": 7,
      "outputs": [
        {
          "output_type": "stream",
          "text": [
            "I am a person\n",
            "I am male\n",
            "I am Female\n"
          ],
          "name": "stdout"
        }
      ]
    },
    {
      "cell_type": "code",
      "metadata": {
        "id": "PssB5REwoLaG"
      },
      "source": [
        "class Male(Person):\n",
        "    def getGender(self):\n",
        "        print(\"I am male\")"
      ],
      "execution_count": null,
      "outputs": []
    },
    {
      "cell_type": "code",
      "metadata": {
        "id": "W5YP7NIlscRH",
        "outputId": "4a76964c-3d9b-4106-b8c7-93764bacd21f",
        "colab": {
          "base_uri": "https://localhost:8080/"
        }
      },
      "source": [
        "\"\"\"\n",
        "Problem Statement​ ​1:\n",
        "Implement a Python program to generate all sentences where subject is in\n",
        "[\"Americans\", \"Indians\"] and verb is in [\"Play\", \"watch\"] and the object is in\n",
        "[\"Baseball\",\"cricket\"].\n",
        "Hint: Subject,Verb and Object should be declared in the program as shown below.\n",
        "subjects=[\"Americans \",\"Indians\"]\n",
        "verbs=[\"play\",\"watch\"]\n",
        "objects=[\"Baseball\",\"Cricket\"]\n",
        "Output should come as below:\n",
        "Americans play Baseball.\n",
        "Americans play Cricket.\n",
        "Americans watch Baseball.\n",
        "Americans watch Cricket.\n",
        "Indians play Baseball.\n",
        "Indians play Cricket.\n",
        "Indians watch Baseball.\n",
        "Indians watch Cricket.\n",
        "\"\"\"\n",
        "\n",
        "subject=[\"Americans\", \"Indians\"]\n",
        "verb=[\"Play\", \"watch\"]\n",
        "obj=[\"Baseball\",\"cricket\"]\n",
        "\n",
        "# Use list comprehension instead of looping over each of the predicates\n",
        "sentence_list = [(sub+\" \"+ vb + \" \" + ob) for sub in subject for vb in verb for ob in obj]\n",
        "for sentence in sentence_list:\n",
        " print (sentence)"
      ],
      "execution_count": 8,
      "outputs": [
        {
          "output_type": "stream",
          "text": [
            "Americans Play Baseball\n",
            "Americans Play cricket\n",
            "Americans watch Baseball\n",
            "Americans watch cricket\n",
            "Indians Play Baseball\n",
            "Indians Play cricket\n",
            "Indians watch Baseball\n",
            "Indians watch cricket\n"
          ],
          "name": "stdout"
        }
      ]
    },
    {
      "cell_type": "code",
      "metadata": {
        "id": "qbqIglYAtclB"
      },
      "source": [
        "import zlib\n",
        "text=\"Hello world\"\n",
        "comp=zlib.compress(text)\n",
        "print(\"Compressed: \", comp)\n",
        "decomp=zlib.decompress(text)\n",
        "print(\"Decompressed: \", decomp)"
      ],
      "execution_count": null,
      "outputs": []
    },
    {
      "cell_type": "markdown",
      "metadata": {
        "id": "-6z68HtEtevc"
      },
      "source": [
        "# New section"
      ]
    }
  ]
}